{
 "cells": [
  {
   "cell_type": "code",
   "execution_count": 1,
   "id": "7c6691dd",
   "metadata": {},
   "outputs": [],
   "source": [
    "import numpy as np\n",
    "import pandas as pd\n",
    "from sklearn.datasets import make_regression"
   ]
  },
  {
   "cell_type": "code",
   "execution_count": 2,
   "id": "7b30e3a4",
   "metadata": {},
   "outputs": [],
   "source": [
    "X,y=make_regression(n_samples=100,n_features=3,noise=0)"
   ]
  },
  {
   "cell_type": "code",
   "execution_count": 3,
   "id": "9678dafd",
   "metadata": {},
   "outputs": [],
   "source": [
    "data = {f'Feature_{i+1}': X[:, i] for i in range(3)}\n",
    "data['Target'] = y\n",
    "df = pd.DataFrame(data)"
   ]
  },
  {
   "cell_type": "code",
   "execution_count": 4,
   "id": "9c5ae540",
   "metadata": {},
   "outputs": [
    {
     "data": {
      "text/html": [
       "<div>\n",
       "<style scoped>\n",
       "    .dataframe tbody tr th:only-of-type {\n",
       "        vertical-align: middle;\n",
       "    }\n",
       "\n",
       "    .dataframe tbody tr th {\n",
       "        vertical-align: top;\n",
       "    }\n",
       "\n",
       "    .dataframe thead th {\n",
       "        text-align: right;\n",
       "    }\n",
       "</style>\n",
       "<table border=\"1\" class=\"dataframe\">\n",
       "  <thead>\n",
       "    <tr style=\"text-align: right;\">\n",
       "      <th></th>\n",
       "      <th>Feature_1</th>\n",
       "      <th>Feature_2</th>\n",
       "      <th>Feature_3</th>\n",
       "      <th>Target</th>\n",
       "    </tr>\n",
       "  </thead>\n",
       "  <tbody>\n",
       "    <tr>\n",
       "      <th>0</th>\n",
       "      <td>1.182112</td>\n",
       "      <td>-1.095190</td>\n",
       "      <td>1.379006</td>\n",
       "      <td>167.066853</td>\n",
       "    </tr>\n",
       "    <tr>\n",
       "      <th>1</th>\n",
       "      <td>0.936024</td>\n",
       "      <td>0.994414</td>\n",
       "      <td>1.221445</td>\n",
       "      <td>197.922566</td>\n",
       "    </tr>\n",
       "    <tr>\n",
       "      <th>2</th>\n",
       "      <td>1.570824</td>\n",
       "      <td>0.140745</td>\n",
       "      <td>1.139033</td>\n",
       "      <td>221.126048</td>\n",
       "    </tr>\n",
       "    <tr>\n",
       "      <th>3</th>\n",
       "      <td>-1.643531</td>\n",
       "      <td>-0.287202</td>\n",
       "      <td>0.389445</td>\n",
       "      <td>-123.274479</td>\n",
       "    </tr>\n",
       "    <tr>\n",
       "      <th>4</th>\n",
       "      <td>0.599561</td>\n",
       "      <td>-1.319538</td>\n",
       "      <td>-1.211475</td>\n",
       "      <td>-74.177870</td>\n",
       "    </tr>\n",
       "  </tbody>\n",
       "</table>\n",
       "</div>"
      ],
      "text/plain": [
       "   Feature_1  Feature_2  Feature_3      Target\n",
       "0   1.182112  -1.095190   1.379006  167.066853\n",
       "1   0.936024   0.994414   1.221445  197.922566\n",
       "2   1.570824   0.140745   1.139033  221.126048\n",
       "3  -1.643531  -0.287202   0.389445 -123.274479\n",
       "4   0.599561  -1.319538  -1.211475  -74.177870"
      ]
     },
     "execution_count": 4,
     "metadata": {},
     "output_type": "execute_result"
    }
   ],
   "source": [
    "df.head()"
   ]
  },
  {
   "cell_type": "code",
   "execution_count": 5,
   "id": "4a5c3d05",
   "metadata": {},
   "outputs": [],
   "source": [
    "import tensorflow\n",
    "from tensorflow import keras\n",
    "from keras import Sequential\n",
    "from keras.layers import Dense"
   ]
  },
  {
   "cell_type": "code",
   "execution_count": 16,
   "id": "d2413828",
   "metadata": {},
   "outputs": [],
   "source": [
    "model=Sequential()\n",
    "\n",
    "model.add(Dense(3,activation='linear',input_dim=3))\n",
    "model.add(Dense(2,activation='linear',input_dim=3))\n",
    "model.add(Dense(1,activation='linear'))"
   ]
  },
  {
   "cell_type": "code",
   "execution_count": 17,
   "id": "0e730f30",
   "metadata": {},
   "outputs": [
    {
     "name": "stdout",
     "output_type": "stream",
     "text": [
      "Model: \"sequential_2\"\n",
      "_________________________________________________________________\n",
      " Layer (type)                Output Shape              Param #   \n",
      "=================================================================\n",
      " dense_4 (Dense)             (None, 3)                 12        \n",
      "                                                                 \n",
      " dense_5 (Dense)             (None, 2)                 8         \n",
      "                                                                 \n",
      " dense_6 (Dense)             (None, 1)                 3         \n",
      "                                                                 \n",
      "=================================================================\n",
      "Total params: 23 (92.00 Byte)\n",
      "Trainable params: 23 (92.00 Byte)\n",
      "Non-trainable params: 0 (0.00 Byte)\n",
      "_________________________________________________________________\n"
     ]
    }
   ],
   "source": [
    "model.summary()"
   ]
  },
  {
   "cell_type": "code",
   "execution_count": 18,
   "id": "1a4afbcf",
   "metadata": {},
   "outputs": [
    {
     "data": {
      "text/plain": [
       "[array([[-9.1310787e-01, -2.1420336e-01, -1.8453550e-01],\n",
       "        [-9.5844269e-04,  8.8632345e-01, -1.0546780e-01],\n",
       "        [-3.7304473e-01,  9.9704742e-01,  9.6339440e-01]], dtype=float32),\n",
       " array([0., 0., 0.], dtype=float32),\n",
       " array([[-0.8951042 , -0.6553019 ],\n",
       "        [-0.65656024, -0.02117682],\n",
       "        [ 0.82027173, -0.51484513]], dtype=float32),\n",
       " array([0., 0.], dtype=float32),\n",
       " array([[-1.0226542],\n",
       "        [ 0.6000215]], dtype=float32),\n",
       " array([0.], dtype=float32)]"
      ]
     },
     "execution_count": 18,
     "metadata": {},
     "output_type": "execute_result"
    }
   ],
   "source": [
    "model.get_weights()"
   ]
  },
  {
   "cell_type": "code",
   "execution_count": 19,
   "id": "d20496ca",
   "metadata": {},
   "outputs": [],
   "source": [
    "optimizer = keras.optimizers.Adam(learning_rate=0.001)\n",
    "model.compile(loss='mean_squared_error',optimizer=optimizer)"
   ]
  },
  {
   "cell_type": "code",
   "execution_count": 20,
   "id": "751f9d14",
   "metadata": {},
   "outputs": [
    {
     "name": "stdout",
     "output_type": "stream",
     "text": [
      "Epoch 1/100\n",
      "100/100 [==============================] - 1s 2ms/step - loss: 15362.5225\n",
      "Epoch 2/100\n",
      "100/100 [==============================] - 0s 2ms/step - loss: 15273.2559\n",
      "Epoch 3/100\n",
      "100/100 [==============================] - 0s 2ms/step - loss: 15187.7041\n",
      "Epoch 4/100\n",
      "100/100 [==============================] - 0s 2ms/step - loss: 15097.1934\n",
      "Epoch 5/100\n",
      "100/100 [==============================] - 0s 2ms/step - loss: 14992.7451\n",
      "Epoch 6/100\n",
      "100/100 [==============================] - 0s 2ms/step - loss: 14857.2100\n",
      "Epoch 7/100\n",
      "100/100 [==============================] - 0s 2ms/step - loss: 14678.5566\n",
      "Epoch 8/100\n",
      "100/100 [==============================] - 0s 2ms/step - loss: 14438.0889\n",
      "Epoch 9/100\n",
      "100/100 [==============================] - 0s 2ms/step - loss: 14114.7988\n",
      "Epoch 10/100\n",
      "100/100 [==============================] - 0s 2ms/step - loss: 13696.9365\n",
      "Epoch 11/100\n",
      "100/100 [==============================] - 0s 2ms/step - loss: 13178.2686\n",
      "Epoch 12/100\n",
      "100/100 [==============================] - 0s 3ms/step - loss: 12565.1611\n",
      "Epoch 13/100\n",
      "100/100 [==============================] - 0s 3ms/step - loss: 11842.1074\n",
      "Epoch 14/100\n",
      "100/100 [==============================] - 0s 2ms/step - loss: 11051.5088\n",
      "Epoch 15/100\n",
      "100/100 [==============================] - 0s 3ms/step - loss: 10169.4756\n",
      "Epoch 16/100\n",
      "100/100 [==============================] - 0s 3ms/step - loss: 9228.9844\n",
      "Epoch 17/100\n",
      "100/100 [==============================] - 0s 2ms/step - loss: 8279.0049\n",
      "Epoch 18/100\n",
      "100/100 [==============================] - 0s 2ms/step - loss: 7304.7437\n",
      "Epoch 19/100\n",
      "100/100 [==============================] - 0s 2ms/step - loss: 6342.9458\n",
      "Epoch 20/100\n",
      "100/100 [==============================] - 0s 3ms/step - loss: 5418.5894\n",
      "Epoch 21/100\n",
      "100/100 [==============================] - 0s 2ms/step - loss: 4571.2847\n",
      "Epoch 22/100\n",
      "100/100 [==============================] - 0s 3ms/step - loss: 3779.0505\n",
      "Epoch 23/100\n",
      "100/100 [==============================] - 0s 3ms/step - loss: 3069.3792\n",
      "Epoch 24/100\n",
      "100/100 [==============================] - 0s 3ms/step - loss: 2463.1492\n",
      "Epoch 25/100\n",
      "100/100 [==============================] - 0s 3ms/step - loss: 1943.7395\n",
      "Epoch 26/100\n",
      "100/100 [==============================] - 0s 3ms/step - loss: 1516.9419\n",
      "Epoch 27/100\n",
      "100/100 [==============================] - 0s 3ms/step - loss: 1170.1060\n",
      "Epoch 28/100\n",
      "100/100 [==============================] - 0s 3ms/step - loss: 895.8862\n",
      "Epoch 29/100\n",
      "100/100 [==============================] - 0s 3ms/step - loss: 679.2394\n",
      "Epoch 30/100\n",
      "100/100 [==============================] - 0s 3ms/step - loss: 515.5530\n",
      "Epoch 31/100\n",
      "100/100 [==============================] - 0s 3ms/step - loss: 389.0573\n",
      "Epoch 32/100\n",
      "100/100 [==============================] - 0s 3ms/step - loss: 294.8971\n",
      "Epoch 33/100\n",
      "100/100 [==============================] - 0s 2ms/step - loss: 223.7378\n",
      "Epoch 34/100\n",
      "100/100 [==============================] - 0s 3ms/step - loss: 169.6554\n",
      "Epoch 35/100\n",
      "100/100 [==============================] - 0s 3ms/step - loss: 128.7467\n",
      "Epoch 36/100\n",
      "100/100 [==============================] - 0s 3ms/step - loss: 96.6355\n",
      "Epoch 37/100\n",
      "100/100 [==============================] - 0s 3ms/step - loss: 72.6775\n",
      "Epoch 38/100\n",
      "100/100 [==============================] - 0s 3ms/step - loss: 54.1659\n",
      "Epoch 39/100\n",
      "100/100 [==============================] - 0s 3ms/step - loss: 40.2153\n",
      "Epoch 40/100\n",
      "100/100 [==============================] - 0s 3ms/step - loss: 29.2528\n",
      "Epoch 41/100\n",
      "100/100 [==============================] - 0s 3ms/step - loss: 21.1196\n",
      "Epoch 42/100\n",
      "100/100 [==============================] - 0s 3ms/step - loss: 15.0499\n",
      "Epoch 43/100\n",
      "100/100 [==============================] - 0s 3ms/step - loss: 10.5398\n",
      "Epoch 44/100\n",
      "100/100 [==============================] - 0s 3ms/step - loss: 7.2917\n",
      "Epoch 45/100\n",
      "100/100 [==============================] - 0s 3ms/step - loss: 4.9358\n",
      "Epoch 46/100\n",
      "100/100 [==============================] - 0s 3ms/step - loss: 3.2840\n",
      "Epoch 47/100\n",
      "100/100 [==============================] - 0s 3ms/step - loss: 2.1637\n",
      "Epoch 48/100\n",
      "100/100 [==============================] - 0s 3ms/step - loss: 1.3837\n",
      "Epoch 49/100\n",
      "100/100 [==============================] - 0s 3ms/step - loss: 0.8648\n",
      "Epoch 50/100\n",
      "100/100 [==============================] - 0s 3ms/step - loss: 0.5345\n",
      "Epoch 51/100\n",
      "100/100 [==============================] - 0s 3ms/step - loss: 0.3184\n",
      "Epoch 52/100\n",
      "100/100 [==============================] - 0s 3ms/step - loss: 0.1917\n",
      "Epoch 53/100\n",
      "100/100 [==============================] - 0s 3ms/step - loss: 0.1045\n",
      "Epoch 54/100\n",
      "100/100 [==============================] - 0s 3ms/step - loss: 0.0575\n",
      "Epoch 55/100\n",
      "100/100 [==============================] - 0s 3ms/step - loss: 0.0310\n",
      "Epoch 56/100\n",
      "100/100 [==============================] - 0s 3ms/step - loss: 0.0160\n",
      "Epoch 57/100\n",
      "100/100 [==============================] - 0s 3ms/step - loss: 0.0080\n",
      "Epoch 58/100\n",
      "100/100 [==============================] - 0s 3ms/step - loss: 0.0038\n",
      "Epoch 59/100\n",
      "100/100 [==============================] - 0s 3ms/step - loss: 0.0018\n",
      "Epoch 60/100\n",
      "100/100 [==============================] - 0s 3ms/step - loss: 7.8223e-04\n",
      "Epoch 61/100\n",
      "100/100 [==============================] - 0s 3ms/step - loss: 3.3512e-04\n",
      "Epoch 62/100\n",
      "100/100 [==============================] - 0s 3ms/step - loss: 1.3439e-04\n",
      "Epoch 63/100\n",
      "100/100 [==============================] - 0s 3ms/step - loss: 5.2099e-05\n",
      "Epoch 64/100\n",
      "100/100 [==============================] - 0s 3ms/step - loss: 1.8966e-05\n",
      "Epoch 65/100\n",
      "100/100 [==============================] - 0s 3ms/step - loss: 6.4551e-06\n",
      "Epoch 66/100\n",
      "100/100 [==============================] - 0s 3ms/step - loss: 2.2297e-06\n",
      "Epoch 67/100\n",
      "100/100 [==============================] - 0s 3ms/step - loss: 8.4213e-07\n",
      "Epoch 68/100\n",
      "100/100 [==============================] - 0s 3ms/step - loss: 4.3908e-07\n",
      "Epoch 69/100\n",
      "100/100 [==============================] - 0s 3ms/step - loss: 2.6644e-07\n",
      "Epoch 70/100\n",
      "100/100 [==============================] - 0s 3ms/step - loss: 1.9458e-07\n",
      "Epoch 71/100\n",
      "100/100 [==============================] - 0s 3ms/step - loss: 1.3456e-07\n",
      "Epoch 72/100\n",
      "100/100 [==============================] - 0s 3ms/step - loss: 1.1399e-07\n",
      "Epoch 73/100\n",
      "100/100 [==============================] - 0s 3ms/step - loss: 9.9191e-08\n",
      "Epoch 74/100\n",
      "100/100 [==============================] - 0s 3ms/step - loss: 8.7622e-08\n",
      "Epoch 75/100\n",
      "100/100 [==============================] - 0s 3ms/step - loss: 7.8168e-08\n",
      "Epoch 76/100\n",
      "100/100 [==============================] - 0s 2ms/step - loss: 6.9101e-08\n",
      "Epoch 77/100\n",
      "100/100 [==============================] - 0s 3ms/step - loss: 5.9834e-08\n",
      "Epoch 78/100\n",
      "100/100 [==============================] - 0s 3ms/step - loss: 5.1138e-08\n",
      "Epoch 79/100\n",
      "100/100 [==============================] - 0s 3ms/step - loss: 4.6119e-08\n",
      "Epoch 80/100\n",
      "100/100 [==============================] - 0s 3ms/step - loss: 4.2642e-08\n",
      "Epoch 81/100\n",
      "100/100 [==============================] - 0s 3ms/step - loss: 3.3233e-08\n",
      "Epoch 82/100\n",
      "100/100 [==============================] - 0s 3ms/step - loss: 2.4637e-08\n",
      "Epoch 83/100\n",
      "100/100 [==============================] - 0s 3ms/step - loss: 2.2450e-08\n",
      "Epoch 84/100\n",
      "100/100 [==============================] - 0s 3ms/step - loss: 1.6469e-08\n",
      "Epoch 85/100\n",
      "100/100 [==============================] - 0s 3ms/step - loss: 1.5462e-08\n",
      "Epoch 86/100\n",
      "100/100 [==============================] - 0s 3ms/step - loss: 1.4429e-08\n",
      "Epoch 87/100\n",
      "100/100 [==============================] - 0s 3ms/step - loss: 1.4624e-08\n",
      "Epoch 88/100\n",
      "100/100 [==============================] - 0s 3ms/step - loss: 1.3663e-08\n",
      "Epoch 89/100\n",
      "100/100 [==============================] - 0s 3ms/step - loss: 1.2814e-08\n",
      "Epoch 90/100\n",
      "100/100 [==============================] - 0s 3ms/step - loss: 1.2418e-08\n",
      "Epoch 91/100\n",
      "100/100 [==============================] - 0s 3ms/step - loss: 9.8184e-09\n",
      "Epoch 92/100\n",
      "100/100 [==============================] - 0s 3ms/step - loss: 7.8651e-09\n",
      "Epoch 93/100\n",
      "100/100 [==============================] - 0s 2ms/step - loss: 6.7653e-09\n",
      "Epoch 94/100\n",
      "100/100 [==============================] - 0s 2ms/step - loss: 6.7391e-09\n",
      "Epoch 95/100\n",
      "100/100 [==============================] - 0s 3ms/step - loss: 6.0476e-09\n",
      "Epoch 96/100\n"
     ]
    },
    {
     "name": "stdout",
     "output_type": "stream",
     "text": [
      "100/100 [==============================] - 0s 3ms/step - loss: 5.3310e-09\n",
      "Epoch 97/100\n",
      "100/100 [==============================] - 0s 3ms/step - loss: 4.1868e-09\n",
      "Epoch 98/100\n",
      "100/100 [==============================] - 0s 3ms/step - loss: 3.7747e-09\n",
      "Epoch 99/100\n",
      "100/100 [==============================] - 0s 3ms/step - loss: 3.9009e-09\n",
      "Epoch 100/100\n",
      "100/100 [==============================] - 0s 3ms/step - loss: 3.4916e-09\n"
     ]
    },
    {
     "data": {
      "text/plain": [
       "<keras.src.callbacks.History at 0x29a95a82550>"
      ]
     },
     "execution_count": 20,
     "metadata": {},
     "output_type": "execute_result"
    }
   ],
   "source": [
    "model.fit(df.iloc[:,0:-1].values,df['Target'].values,epochs=100,verbose=1,batch_size=1)"
   ]
  },
  {
   "cell_type": "code",
   "execution_count": 21,
   "id": "c863cb04",
   "metadata": {},
   "outputs": [
    {
     "data": {
      "text/plain": [
       "[array([[-2.8120582 ,  1.8270596 , -2.1659365 ],\n",
       "        [-0.33225408,  1.3991311 , -0.5148203 ],\n",
       "        [-1.9214072 ,  2.7903094 , -0.69657797]], dtype=float32),\n",
       " array([0.00354051, 0.00290874, 0.0016526 ], dtype=float32),\n",
       " array([[ 1.202595 , -2.8239276],\n",
       "        [-2.7038934,  2.0941548],\n",
       "        [ 2.3005855, -2.0109298]], dtype=float32),\n",
       " array([-0.00217387,  0.00355181], dtype=float32),\n",
       " array([[-3.0245802],\n",
       "        [ 2.8717356]], dtype=float32),\n",
       " array([0.00455923], dtype=float32)]"
      ]
     },
     "execution_count": 21,
     "metadata": {},
     "output_type": "execute_result"
    }
   ],
   "source": [
    "model.get_weights()"
   ]
  },
  {
   "cell_type": "code",
   "execution_count": null,
   "id": "fd63a73d",
   "metadata": {},
   "outputs": [],
   "source": []
  }
 ],
 "metadata": {
  "kernelspec": {
   "display_name": "Python 3 (ipykernel)",
   "language": "python",
   "name": "python3"
  },
  "language_info": {
   "codemirror_mode": {
    "name": "ipython",
    "version": 3
   },
   "file_extension": ".py",
   "mimetype": "text/x-python",
   "name": "python",
   "nbconvert_exporter": "python",
   "pygments_lexer": "ipython3",
   "version": "3.11.3"
  }
 },
 "nbformat": 4,
 "nbformat_minor": 5
}
